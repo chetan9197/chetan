{
 "cells": [
  {
   "cell_type": "markdown",
   "id": "be8a9c27-5028-4328-8dba-64d3b7f14e3c",
   "metadata": {},
   "source": [
    "#FUNCTION"
   ]
  },
  {
   "cell_type": "code",
   "execution_count": null,
   "id": "5b433ec0-1004-4edc-9d8a-705907a3721e",
   "metadata": {},
   "outputs": [],
   "source": []
  },
  {
   "cell_type": "code",
   "execution_count": 1,
   "id": "c8988332-62f4-4be9-b8ee-c37981f68b34",
   "metadata": {},
   "outputs": [
    {
     "name": "stdout",
     "output_type": "stream",
     "text": [
      "top of function\n",
      "bottom of function\n",
      "inside function\n",
      "result=8\n",
      "final result\n",
      "8\n"
     ]
    }
   ],
   "source": [
    "\n",
    "\n",
    "print('top of function')\n",
    "\n",
    "def addValue(x,y):\n",
    "    print('inside function')\n",
    "    result = x+y\n",
    "    print(f'result={result}')\n",
    "    return result\n",
    "\n",
    "print('bottom of function')\n",
    "\n",
    "addResult  = addValue(2,6)\n",
    "\n",
    "print('final result')\n",
    "print(addResult)"
   ]
  },
  {
   "cell_type": "code",
   "execution_count": null,
   "id": "ea097e5b-e794-4a5a-82c0-c54946785494",
   "metadata": {},
   "outputs": [],
   "source": []
  },
  {
   "cell_type": "code",
   "execution_count": null,
   "id": "e0ebab1a-a0a7-427d-b987-38d6a4668bbd",
   "metadata": {},
   "outputs": [],
   "source": []
  }
 ],
 "metadata": {
  "kernelspec": {
   "display_name": "Python 3 (ipykernel)",
   "language": "python",
   "name": "python3"
  },
  "language_info": {
   "codemirror_mode": {
    "name": "ipython",
    "version": 3
   },
   "file_extension": ".py",
   "mimetype": "text/x-python",
   "name": "python",
   "nbconvert_exporter": "python",
   "pygments_lexer": "ipython3",
   "version": "3.11.7"
  }
 },
 "nbformat": 4,
 "nbformat_minor": 5
}
