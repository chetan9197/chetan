{
 "cells": [
  {
   "cell_type": "markdown",
   "id": "3e5bf38a-c626-4d32-9f83-0ab35088148b",
   "metadata": {},
   "source": [
    "#LIST\n",
    "its  used for orader sequence of data\n"
   ]
  },
  {
   "cell_type": "code",
   "execution_count": 8,
   "id": "edd2f55a-d30b-456d-b4c6-98a54b9a5ea9",
   "metadata": {},
   "outputs": [],
   "source": [
    "list1=[1,2,3,4,5,6,7,8,9]"
   ]
  },
  {
   "cell_type": "code",
   "execution_count": 9,
   "id": "78b5a51c-458a-4208-ac90-c6b6184bdd13",
   "metadata": {},
   "outputs": [
    {
     "data": {
      "text/plain": [
       "[1, 2, 3, 4, 5, 6, 7, 8, 9]"
      ]
     },
     "execution_count": 9,
     "metadata": {},
     "output_type": "execute_result"
    }
   ],
   "source": [
    "list1"
   ]
  },
  {
   "cell_type": "code",
   "execution_count": null,
   "id": "f153c794-c2ab-4b17-958a-8579f8fcccb8",
   "metadata": {},
   "outputs": [],
   "source": []
  },
  {
   "cell_type": "code",
   "execution_count": null,
   "id": "c9e5ff47-f307-4ed3-b95f-71de1fef1a0c",
   "metadata": {},
   "outputs": [],
   "source": []
  },
  {
   "cell_type": "markdown",
   "id": "ae324419-3f06-45ce-900c-ab1345cea2d6",
   "metadata": {},
   "source": [
    "#APPEND\n",
    "its used for adding data for end to list\n"
   ]
  },
  {
   "cell_type": "code",
   "execution_count": 11,
   "id": "9f438403-60f3-4d88-9a2b-c23348c57337",
   "metadata": {},
   "outputs": [
    {
     "data": {
      "text/plain": [
       "[1, 2, 3, 4, 5, 6, 7, 8, 9]"
      ]
     },
     "execution_count": 11,
     "metadata": {},
     "output_type": "execute_result"
    }
   ],
   "source": [
    "list1"
   ]
  },
  {
   "cell_type": "code",
   "execution_count": 12,
   "id": "ca18d10d-e65f-450a-aee7-f45a381e0b16",
   "metadata": {},
   "outputs": [],
   "source": [
    "list1.append(10)"
   ]
  },
  {
   "cell_type": "code",
   "execution_count": 13,
   "id": "0b2c92cf-248a-4a46-bc54-72e2aa5c6fed",
   "metadata": {},
   "outputs": [
    {
     "data": {
      "text/plain": [
       "[1, 2, 3, 4, 5, 6, 7, 8, 9, 10]"
      ]
     },
     "execution_count": 13,
     "metadata": {},
     "output_type": "execute_result"
    }
   ],
   "source": [
    "list1"
   ]
  },
  {
   "cell_type": "code",
   "execution_count": null,
   "id": "8ccc1a02-bc60-4d7d-a462-3bb36709a7bb",
   "metadata": {},
   "outputs": [],
   "source": [
    "\n"
   ]
  },
  {
   "cell_type": "markdown",
   "id": "5b6919a4-7c6e-43fa-a6a3-eab7ca335c95",
   "metadata": {},
   "source": [
    "#EXTEND\n",
    "its used for added in the list\n"
   ]
  },
  {
   "cell_type": "code",
   "execution_count": 26,
   "id": "18347416-25d6-48fe-bf33-c393f0e020d2",
   "metadata": {},
   "outputs": [
    {
     "name": "stdout",
     "output_type": "stream",
     "text": [
      "['excal', 'powerbi', 'Sql']\n",
      "['mobodb', 'python', 'tableau']\n"
     ]
    }
   ],
   "source": [
    "corse=['excal','powerbi','Sql']\n",
    "study=['mobodb','python','tableau']\n",
    "print(corse)\n",
    "print(study)"
   ]
  },
  {
   "cell_type": "code",
   "execution_count": 27,
   "id": "e595aaa8-82b9-4d2b-948c-18cdf0a870d6",
   "metadata": {},
   "outputs": [],
   "source": [
    "corse.extend(study)"
   ]
  },
  {
   "cell_type": "code",
   "execution_count": 31,
   "id": "890a1c6f-d011-428f-a71d-fbe23cfbd1d1",
   "metadata": {},
   "outputs": [
    {
     "data": {
      "text/plain": [
       "['excal', 'powerbi', 'Sql', 'mobodb', 'python', 'tableau']"
      ]
     },
     "execution_count": 31,
     "metadata": {},
     "output_type": "execute_result"
    }
   ],
   "source": [
    "corse"
   ]
  },
  {
   "cell_type": "code",
   "execution_count": null,
   "id": "95a2e685-7387-4659-98a8-977341c34710",
   "metadata": {},
   "outputs": [],
   "source": []
  },
  {
   "cell_type": "markdown",
   "id": "0d0b435d-8960-4238-a35e-694f9b3acdc5",
   "metadata": {},
   "source": [
    "#INSERT\n",
    "ADDED IN THE LIST"
   ]
  },
  {
   "cell_type": "code",
   "execution_count": 33,
   "id": "5ce593c9-b6f0-4987-ad4a-dc8eb9a1cd52",
   "metadata": {},
   "outputs": [
    {
     "name": "stdout",
     "output_type": "stream",
     "text": [
      "None\n"
     ]
    }
   ],
   "source": [
    "print(corse.insert(2,'git'))"
   ]
  },
  {
   "cell_type": "code",
   "execution_count": 34,
   "id": "d26ac788-25d6-442f-b4e6-3e2ba0e6eee0",
   "metadata": {},
   "outputs": [
    {
     "data": {
      "text/plain": [
       "['excal', 'powerbi', 'git', 'Sql', 'mobodb', 'python', 'tableau']"
      ]
     },
     "execution_count": 34,
     "metadata": {},
     "output_type": "execute_result"
    }
   ],
   "source": [
    "corse"
   ]
  },
  {
   "cell_type": "code",
   "execution_count": null,
   "id": "17e1f929-45d8-4cbf-86fb-099cc1bc10be",
   "metadata": {},
   "outputs": [],
   "source": []
  },
  {
   "cell_type": "markdown",
   "id": "ed5181bb-3647-4a63-85e6-6a9b8b479e8f",
   "metadata": {},
   "source": [
    "#INDEX \n",
    "find the position"
   ]
  },
  {
   "cell_type": "code",
   "execution_count": 36,
   "id": "49279f52-ceeb-4bc1-ad87-0aeb780e9fd4",
   "metadata": {},
   "outputs": [
    {
     "name": "stdout",
     "output_type": "stream",
     "text": [
      "3\n"
     ]
    }
   ],
   "source": [
    "print(corse.index('Sql'))"
   ]
  },
  {
   "cell_type": "code",
   "execution_count": null,
   "id": "98367eea-7647-4110-b1a5-d4f8810b6a5c",
   "metadata": {},
   "outputs": [],
   "source": []
  },
  {
   "cell_type": "markdown",
   "id": "9974da55-cb2c-455b-8ea4-329ed6a6b391",
   "metadata": {},
   "source": [
    "#REMOVE\n",
    "from given data from the list"
   ]
  },
  {
   "cell_type": "code",
   "execution_count": 37,
   "id": "af1ed744-e06f-486a-8055-334b40f93218",
   "metadata": {},
   "outputs": [],
   "source": [
    "corse.remove('Sql')"
   ]
  },
  {
   "cell_type": "code",
   "execution_count": 38,
   "id": "cdc08333-9c7a-45a2-84d4-c9859b6da1ec",
   "metadata": {},
   "outputs": [
    {
     "data": {
      "text/plain": [
       "['excal', 'powerbi', 'git', 'mobodb', 'python', 'tableau']"
      ]
     },
     "execution_count": 38,
     "metadata": {},
     "output_type": "execute_result"
    }
   ],
   "source": [
    "corse"
   ]
  },
  {
   "cell_type": "code",
   "execution_count": null,
   "id": "58081d72-7a95-436d-a833-35cc788fb808",
   "metadata": {},
   "outputs": [],
   "source": []
  },
  {
   "cell_type": "markdown",
   "id": "27a1fa45-9e02-4731-88a2-f1d594d66059",
   "metadata": {},
   "source": [
    "#reverse form the list"
   ]
  },
  {
   "cell_type": "code",
   "execution_count": 39,
   "id": "27af5e0e-1a68-4442-9b50-c25a95fd3bbf",
   "metadata": {},
   "outputs": [
    {
     "data": {
      "text/plain": [
       "['excal', 'powerbi', 'git', 'mobodb', 'python', 'tableau']"
      ]
     },
     "execution_count": 39,
     "metadata": {},
     "output_type": "execute_result"
    }
   ],
   "source": [
    "corse"
   ]
  },
  {
   "cell_type": "code",
   "execution_count": 40,
   "id": "313c47e2-a4a3-4bf1-9b14-de74ec0e71a3",
   "metadata": {},
   "outputs": [],
   "source": [
    "corse.reverse()"
   ]
  },
  {
   "cell_type": "code",
   "execution_count": 41,
   "id": "215ce1de-2b5a-4a09-8d5c-528850213ea8",
   "metadata": {},
   "outputs": [
    {
     "data": {
      "text/plain": [
       "['tableau', 'python', 'mobodb', 'git', 'powerbi', 'excal']"
      ]
     },
     "execution_count": 41,
     "metadata": {},
     "output_type": "execute_result"
    }
   ],
   "source": [
    "corse"
   ]
  },
  {
   "cell_type": "code",
   "execution_count": null,
   "id": "b2659315-d9cd-4dd6-adfc-070ca5e3de94",
   "metadata": {},
   "outputs": [],
   "source": []
  },
  {
   "cell_type": "code",
   "execution_count": null,
   "id": "fbda1bbb-8100-4235-af7c-da88eb8c1363",
   "metadata": {},
   "outputs": [],
   "source": []
  }
 ],
 "metadata": {
  "kernelspec": {
   "display_name": "Python 3 (ipykernel)",
   "language": "python",
   "name": "python3"
  },
  "language_info": {
   "codemirror_mode": {
    "name": "ipython",
    "version": 3
   },
   "file_extension": ".py",
   "mimetype": "text/x-python",
   "name": "python",
   "nbconvert_exporter": "python",
   "pygments_lexer": "ipython3",
   "version": "3.11.7"
  }
 },
 "nbformat": 4,
 "nbformat_minor": 5
}
