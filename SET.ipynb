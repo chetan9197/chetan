{
 "cells": [
  {
   "cell_type": "markdown",
   "id": "5ec37be6-a87e-447f-a0ec-848fdae63171",
   "metadata": {},
   "source": [
    "#SETS\n",
    "its is used to store multipale iteam ina singal variable"
   ]
  },
  {
   "cell_type": "code",
   "execution_count": 1,
   "id": "e5e48d6b-21af-4eec-9d6f-2c7964dea69d",
   "metadata": {},
   "outputs": [],
   "source": [
    "ematyset=set()"
   ]
  },
  {
   "cell_type": "code",
   "execution_count": 2,
   "id": "1d65e907-50a2-4a19-97c2-be60e350c0a9",
   "metadata": {},
   "outputs": [
    {
     "data": {
      "text/plain": [
       "set()"
      ]
     },
     "execution_count": 2,
     "metadata": {},
     "output_type": "execute_result"
    }
   ],
   "source": [
    "ematyset"
   ]
  },
  {
   "cell_type": "code",
   "execution_count": null,
   "id": "cf13eda3-1a06-48fd-ab87-9dc2173ee508",
   "metadata": {},
   "outputs": [],
   "source": []
  },
  {
   "cell_type": "markdown",
   "id": "5fd18884-8344-4366-bb05-505e7cebb921",
   "metadata": {},
   "source": [
    "#Add\n",
    "used for add elements "
   ]
  },
  {
   "cell_type": "code",
   "execution_count": 3,
   "id": "590c10b9-4f41-48f5-9e55-e737eb74d73c",
   "metadata": {},
   "outputs": [
    {
     "data": {
      "text/plain": [
       "set()"
      ]
     },
     "execution_count": 3,
     "metadata": {},
     "output_type": "execute_result"
    }
   ],
   "source": [
    "ematyset"
   ]
  },
  {
   "cell_type": "code",
   "execution_count": 5,
   "id": "1d93f771-8359-4765-a551-6d666f9d5eaf",
   "metadata": {},
   "outputs": [],
   "source": [
    "ematyset.add('mango')"
   ]
  },
  {
   "cell_type": "code",
   "execution_count": 6,
   "id": "50322d8a-9fe0-45a3-88ff-73cdf04a808c",
   "metadata": {},
   "outputs": [
    {
     "data": {
      "text/plain": [
       "{'mango'}"
      ]
     },
     "execution_count": 6,
     "metadata": {},
     "output_type": "execute_result"
    }
   ],
   "source": [
    "ematyset"
   ]
  },
  {
   "cell_type": "code",
   "execution_count": 7,
   "id": "6cfa9ddd-2e2e-4547-961d-34810da6dc6a",
   "metadata": {},
   "outputs": [],
   "source": [
    "ematyset.add(10)"
   ]
  },
  {
   "cell_type": "code",
   "execution_count": 8,
   "id": "39ba04b7-b0e6-47b5-b2b9-0bc6159422d2",
   "metadata": {},
   "outputs": [
    {
     "data": {
      "text/plain": [
       "{10, 'mango'}"
      ]
     },
     "execution_count": 8,
     "metadata": {},
     "output_type": "execute_result"
    }
   ],
   "source": [
    "ematyset"
   ]
  },
  {
   "cell_type": "code",
   "execution_count": null,
   "id": "21c1760c-0752-4150-8e54-c1e5dde8e6a8",
   "metadata": {},
   "outputs": [],
   "source": []
  },
  {
   "cell_type": "markdown",
   "id": "dc58a9a3-56cc-4ee3-86e8-f90e761a76a5",
   "metadata": {},
   "source": [
    "#REMOVE\n",
    "the Iteam of the set"
   ]
  },
  {
   "cell_type": "code",
   "execution_count": 10,
   "id": "8de0a1fe-ceb1-4607-b17b-e419223c6cbf",
   "metadata": {},
   "outputs": [
    {
     "data": {
      "text/plain": [
       "{10, 'mango'}"
      ]
     },
     "execution_count": 10,
     "metadata": {},
     "output_type": "execute_result"
    }
   ],
   "source": [
    "ematyset"
   ]
  },
  {
   "cell_type": "code",
   "execution_count": 11,
   "id": "63698503-97e1-4595-96ad-a0503010f932",
   "metadata": {},
   "outputs": [],
   "source": [
    "ematyset.remove(10)"
   ]
  },
  {
   "cell_type": "code",
   "execution_count": 12,
   "id": "773f4f92-4e3b-47bc-b8d9-6d1935113fa7",
   "metadata": {},
   "outputs": [
    {
     "data": {
      "text/plain": [
       "{'mango'}"
      ]
     },
     "execution_count": 12,
     "metadata": {},
     "output_type": "execute_result"
    }
   ],
   "source": [
    "ematyset"
   ]
  },
  {
   "cell_type": "code",
   "execution_count": null,
   "id": "e66dc851-1f1a-413d-9257-9825b76e1016",
   "metadata": {},
   "outputs": [],
   "source": []
  },
  {
   "cell_type": "markdown",
   "id": "05c53e32-4b8c-45f6-81bf-b91f76aef9ca",
   "metadata": {},
   "source": [
    "#UPDATE\n",
    "used for multipal elements added"
   ]
  },
  {
   "cell_type": "code",
   "execution_count": 13,
   "id": "a807d4de-fde0-4925-8f24-0f308282db50",
   "metadata": {},
   "outputs": [
    {
     "data": {
      "text/plain": [
       "{'mango'}"
      ]
     },
     "execution_count": 13,
     "metadata": {},
     "output_type": "execute_result"
    }
   ],
   "source": [
    "ematyset"
   ]
  },
  {
   "cell_type": "code",
   "execution_count": 15,
   "id": "c8ecf0ad-be71-43af-8148-e487e82d4daa",
   "metadata": {},
   "outputs": [],
   "source": [
    "ematyset.update([6,8,3,9,])"
   ]
  },
  {
   "cell_type": "code",
   "execution_count": 16,
   "id": "9220aa20-b36f-45fe-866e-009e7b3e2f49",
   "metadata": {},
   "outputs": [
    {
     "data": {
      "text/plain": [
       "{3, 6, 8, 9, 'mango'}"
      ]
     },
     "execution_count": 16,
     "metadata": {},
     "output_type": "execute_result"
    }
   ],
   "source": [
    "ematyset"
   ]
  },
  {
   "cell_type": "code",
   "execution_count": null,
   "id": "4d70ce9c-9709-4f70-b401-02449bd30ce7",
   "metadata": {},
   "outputs": [],
   "source": []
  },
  {
   "cell_type": "markdown",
   "id": "32758833-d34f-4683-b210-62b6f069f8a9",
   "metadata": {},
   "source": [
    "#UNION\n",
    "used for merge the iteams"
   ]
  },
  {
   "cell_type": "code",
   "execution_count": 24,
   "id": "b0557c8f-fab2-4d10-99a5-02938c8c196e",
   "metadata": {},
   "outputs": [],
   "source": [
    "number={1,2,3,4,5,6,7,8,9}\n",
    "evan={2,4,6,8}"
   ]
  },
  {
   "cell_type": "code",
   "execution_count": 19,
   "id": "3b891f94-bbf6-4882-93c9-0f22890abe7f",
   "metadata": {},
   "outputs": [
    {
     "name": "stdout",
     "output_type": "stream",
     "text": [
      "{1, 2, 3, 4, 5, 6, 7, 8, 9}\n",
      "{8, 2, 4, 6}\n"
     ]
    }
   ],
   "source": [
    "print(number)\n",
    "print(evan)"
   ]
  },
  {
   "cell_type": "code",
   "execution_count": 21,
   "id": "8fbf46e6-7d7f-44ca-8ae7-0b2d68f6e59f",
   "metadata": {},
   "outputs": [
    {
     "data": {
      "text/plain": [
       "{1, 2, 3, 4, 5, 6, 7, 8, 9}"
      ]
     },
     "execution_count": 21,
     "metadata": {},
     "output_type": "execute_result"
    }
   ],
   "source": [
    "number.union(evan)"
   ]
  },
  {
   "cell_type": "code",
   "execution_count": null,
   "id": "036c5842-c778-40e5-9050-dc867c01c251",
   "metadata": {},
   "outputs": [],
   "source": []
  },
  {
   "cell_type": "markdown",
   "id": "f7b2bb95-c0d5-4439-a486-b80b8d0df53c",
   "metadata": {},
   "source": [
    "#INTERSECTION\n",
    "show the same elements in the two sets"
   ]
  },
  {
   "cell_type": "code",
   "execution_count": 25,
   "id": "db9fae37-244c-4cdc-9580-05cc87b86d91",
   "metadata": {},
   "outputs": [
    {
     "name": "stdout",
     "output_type": "stream",
     "text": [
      "{1, 2, 3, 4, 5, 6, 7, 8, 9}\n",
      "{8, 2, 4, 6}\n"
     ]
    }
   ],
   "source": [
    "print(number)\n",
    "print(evan)"
   ]
  },
  {
   "cell_type": "code",
   "execution_count": 27,
   "id": "472f8af4-2d8d-4cb0-82c0-9ffba2010af1",
   "metadata": {},
   "outputs": [
    {
     "data": {
      "text/plain": [
       "{2, 4, 6, 8}"
      ]
     },
     "execution_count": 27,
     "metadata": {},
     "output_type": "execute_result"
    }
   ],
   "source": [
    "number.intersection(evan)"
   ]
  },
  {
   "cell_type": "code",
   "execution_count": null,
   "id": "12e46a49-c862-4f49-8737-d3b5706aef29",
   "metadata": {},
   "outputs": [],
   "source": []
  },
  {
   "cell_type": "markdown",
   "id": "356c4296-1b75-4a04-85df-1b3907569d3c",
   "metadata": {},
   "source": [
    "#DIFFRENCE\n",
    "used for elements not in both set"
   ]
  },
  {
   "cell_type": "code",
   "execution_count": 29,
   "id": "6194e2f0-5548-4f46-812f-6fca9a5a35d9",
   "metadata": {},
   "outputs": [
    {
     "name": "stdout",
     "output_type": "stream",
     "text": [
      "{1, 2, 3, 4, 5, 6, 7, 8, 9}\n",
      "{8, 2, 4, 6}\n"
     ]
    }
   ],
   "source": [
    "print(number)\n",
    "print(evan)"
   ]
  },
  {
   "cell_type": "code",
   "execution_count": 30,
   "id": "1b40be3c-de81-4e89-9448-acde0c7cbdfc",
   "metadata": {},
   "outputs": [
    {
     "data": {
      "text/plain": [
       "{1, 3, 5, 7, 9}"
      ]
     },
     "execution_count": 30,
     "metadata": {},
     "output_type": "execute_result"
    }
   ],
   "source": [
    "number.difference(evan)"
   ]
  },
  {
   "cell_type": "code",
   "execution_count": null,
   "id": "1f13fdfc-62fd-4553-bcde-1bff9e0e6718",
   "metadata": {},
   "outputs": [],
   "source": []
  }
 ],
 "metadata": {
  "kernelspec": {
   "display_name": "Python 3 (ipykernel)",
   "language": "python",
   "name": "python3"
  },
  "language_info": {
   "codemirror_mode": {
    "name": "ipython",
    "version": 3
   },
   "file_extension": ".py",
   "mimetype": "text/x-python",
   "name": "python",
   "nbconvert_exporter": "python",
   "pygments_lexer": "ipython3",
   "version": "3.11.7"
  }
 },
 "nbformat": 4,
 "nbformat_minor": 5
}
