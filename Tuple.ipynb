{
 "cells": [
  {
   "cell_type": "markdown",
   "id": "abcf05e2-8cfe-4470-bbf4-ef5765e038ad",
   "metadata": {},
   "source": [
    "#TUPLE"
   ]
  },
  {
   "cell_type": "code",
   "execution_count": 15,
   "id": "57c5c28c-34ca-451e-9902-10d410711610",
   "metadata": {},
   "outputs": [],
   "source": [
    "T1=('t1','t2','t3','t4','t5')"
   ]
  },
  {
   "cell_type": "code",
   "execution_count": 5,
   "id": "a522a91b-6f23-454a-8bc9-61067eff44d5",
   "metadata": {},
   "outputs": [
    {
     "data": {
      "text/plain": [
       "('t1', 't2', 't3', 't4', 't5')"
      ]
     },
     "execution_count": 5,
     "metadata": {},
     "output_type": "execute_result"
    }
   ],
   "source": [
    "T1"
   ]
  },
  {
   "cell_type": "code",
   "execution_count": null,
   "id": "001438ca-2157-4165-938e-e8e6b867acc4",
   "metadata": {},
   "outputs": [],
   "source": []
  },
  {
   "cell_type": "markdown",
   "id": "f1d36ee1-b6bb-4fde-9da9-ad83cbb67a15",
   "metadata": {},
   "source": [
    "#LEN\n",
    "givan the number of elements"
   ]
  },
  {
   "cell_type": "code",
   "execution_count": 6,
   "id": "4127db48-c950-40e9-b0a0-f58d539744f6",
   "metadata": {},
   "outputs": [
    {
     "data": {
      "text/plain": [
       "('t1', 't2', 't3', 't4', 't5')"
      ]
     },
     "execution_count": 6,
     "metadata": {},
     "output_type": "execute_result"
    }
   ],
   "source": [
    "T1"
   ]
  },
  {
   "cell_type": "code",
   "execution_count": 7,
   "id": "b9935d8e-93e3-4707-a29d-9a50776318bc",
   "metadata": {},
   "outputs": [],
   "source": [
    "T1=len(T1)"
   ]
  },
  {
   "cell_type": "code",
   "execution_count": 8,
   "id": "51a373ef-0dff-4a2e-86f0-4bfcff2b623d",
   "metadata": {},
   "outputs": [
    {
     "data": {
      "text/plain": [
       "5"
      ]
     },
     "execution_count": 8,
     "metadata": {},
     "output_type": "execute_result"
    }
   ],
   "source": [
    "T1"
   ]
  },
  {
   "cell_type": "code",
   "execution_count": null,
   "id": "77fb5d83-0a51-4b5f-8d3b-bd97f6cf3ff8",
   "metadata": {},
   "outputs": [],
   "source": []
  },
  {
   "cell_type": "markdown",
   "id": "0cc4bf0c-b0c3-48a3-ba15-531e0e169add",
   "metadata": {},
   "source": [
    "#INDEX \n",
    "find the elements of the tuple"
   ]
  },
  {
   "cell_type": "code",
   "execution_count": 12,
   "id": "3b646521-b5d3-4121-af13-09250bd5bc2b",
   "metadata": {},
   "outputs": [
    {
     "data": {
      "text/plain": [
       "('t1', 't2', 't3', 't4', 't5')"
      ]
     },
     "execution_count": 12,
     "metadata": {},
     "output_type": "execute_result"
    }
   ],
   "source": [
    "T1"
   ]
  },
  {
   "cell_type": "code",
   "execution_count": 13,
   "id": "5022a663-3977-46b6-835b-b7e0ad06d7f7",
   "metadata": {},
   "outputs": [],
   "source": [
    "F1=T1.index('t4')"
   ]
  },
  {
   "cell_type": "code",
   "execution_count": 14,
   "id": "b5ca55a7-38d4-4d72-b161-18032e749d87",
   "metadata": {},
   "outputs": [
    {
     "data": {
      "text/plain": [
       "3"
      ]
     },
     "execution_count": 14,
     "metadata": {},
     "output_type": "execute_result"
    }
   ],
   "source": [
    "F1"
   ]
  },
  {
   "cell_type": "code",
   "execution_count": null,
   "id": "2fadf3b8-13fa-4352-87bb-5e4108f23fcf",
   "metadata": {},
   "outputs": [],
   "source": []
  },
  {
   "cell_type": "code",
   "execution_count": null,
   "id": "39659e66-bb62-49d4-bd57-216d6fc8b5b5",
   "metadata": {},
   "outputs": [],
   "source": []
  },
  {
   "cell_type": "markdown",
   "id": "378abf88-a39e-4366-97e8-adcf63af9d30",
   "metadata": {},
   "source": [
    "#COUNT \n",
    "used for get count number of the elements"
   ]
  },
  {
   "cell_type": "code",
   "execution_count": 16,
   "id": "92938c0a-b497-439d-b71f-673e56e0d04e",
   "metadata": {},
   "outputs": [
    {
     "data": {
      "text/plain": [
       "('t1', 't2', 't3', 't4', 't5')"
      ]
     },
     "execution_count": 16,
     "metadata": {},
     "output_type": "execute_result"
    }
   ],
   "source": [
    "T1"
   ]
  },
  {
   "cell_type": "code",
   "execution_count": 17,
   "id": "588c4844-3fb5-4db5-a3f3-95a12e30ca68",
   "metadata": {},
   "outputs": [
    {
     "data": {
      "text/plain": [
       "1"
      ]
     },
     "execution_count": 17,
     "metadata": {},
     "output_type": "execute_result"
    }
   ],
   "source": [
    "T1.count('t5')"
   ]
  },
  {
   "cell_type": "code",
   "execution_count": 18,
   "id": "e9f10c88-b873-414a-8629-41e74d660ae8",
   "metadata": {},
   "outputs": [
    {
     "data": {
      "text/plain": [
       "1"
      ]
     },
     "execution_count": 18,
     "metadata": {},
     "output_type": "execute_result"
    }
   ],
   "source": [
    "T1.count('t2')"
   ]
  },
  {
   "cell_type": "code",
   "execution_count": null,
   "id": "a33643dc-7ba6-411b-95ee-83ded958be04",
   "metadata": {},
   "outputs": [],
   "source": []
  }
 ],
 "metadata": {
  "kernelspec": {
   "display_name": "Python 3 (ipykernel)",
   "language": "python",
   "name": "python3"
  },
  "language_info": {
   "codemirror_mode": {
    "name": "ipython",
    "version": 3
   },
   "file_extension": ".py",
   "mimetype": "text/x-python",
   "name": "python",
   "nbconvert_exporter": "python",
   "pygments_lexer": "ipython3",
   "version": "3.11.7"
  }
 },
 "nbformat": 4,
 "nbformat_minor": 5
}
