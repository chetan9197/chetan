{
 "cells": [
  {
   "cell_type": "markdown",
   "id": "f0768b5e-ac66-4f65-a4cc-f88f27ff564a",
   "metadata": {},
   "source": [
    "# JOIN TEXT"
   ]
  },
  {
   "cell_type": "code",
   "execution_count": 10,
   "id": "a93050af-42a7-4820-a2a3-1fd7be739ee2",
   "metadata": {},
   "outputs": [
    {
     "name": "stdout",
     "output_type": "stream",
     "text": [
      "Chetan Giri\n"
     ]
    }
   ],
   "source": [
    "def join_text(*args,seprator=\" \"):\n",
    "    return seprator.join(args)\n",
    "    \n",
    "Sub1 = 'Chetan'\n",
    "Sub2 = 'Giri'\n",
    "\n",
    "joined_text = join_text(Sub1, Sub2)\n",
    "print(joined_text)"
   ]
  },
  {
   "cell_type": "code",
   "execution_count": null,
   "id": "414ed7bf-2161-4db8-b762-eb9924a88f5d",
   "metadata": {},
   "outputs": [],
   "source": []
  },
  {
   "cell_type": "markdown",
   "id": "78de5b41-5f00-45e2-bf85-69f13fd42d58",
   "metadata": {},
   "source": [
    "# TRIM TEXT"
   ]
  },
  {
   "cell_type": "code",
   "execution_count": 23,
   "id": "92e1c99e-0856-4c13-bc47-4bea53d08739",
   "metadata": {},
   "outputs": [
    {
     "name": "stdout",
     "output_type": "stream",
     "text": [
      "trimmed(both side): CNETAN GIRI\n",
      "trimmed(left side): CNETAN GIRI   \n",
      "trimmed(right side):    CNETAN GIRI\n"
     ]
    }
   ],
   "source": [
    "def trim_text(text, side ='both'):\n",
    "    if side == 'left':\n",
    "        return text.lstrip()\n",
    "    elif side == 'right':\n",
    "        return text.rstrip()\n",
    "    elif side == 'both':\n",
    "        return text.strip()\n",
    "text = \"   CNETAN GIRI   \"\n",
    "\n",
    "trimmed_text_both = trim_text(text,'both')\n",
    "print('trimmed(both side):',trimmed_text_both)\n",
    "\n",
    "trimmed_text_left = trim_text(text, 'left')\n",
    "print('trimmed(left side):',trimmed_text_left)\n",
    "\n",
    "trimmed_text_right = trim_text(text, 'right')\n",
    "print('trimmed(right side):',trimmed_text_right)"
   ]
  },
  {
   "cell_type": "code",
   "execution_count": null,
   "id": "e8c595ca-5430-4a60-b814-369ef0bd0eef",
   "metadata": {},
   "outputs": [],
   "source": []
  },
  {
   "cell_type": "markdown",
   "id": "72ad1b71-105d-44ac-b893-2b9502bb99d6",
   "metadata": {},
   "source": [
    "# SUBSTITUDE TEXT"
   ]
  },
  {
   "cell_type": "code",
   "execution_count": 25,
   "id": "a3979cec-936a-4991-b634-00bac339fe27",
   "metadata": {},
   "outputs": [
    {
     "name": "stdout",
     "output_type": "stream",
     "text": [
      "I Loves apple\n",
      "I Loves mango\n"
     ]
    }
   ],
   "source": [
    "def substitute_text(text,old,new):\n",
    "    return text.replace(old,new)\n",
    "    \n",
    "real_text = \"I Loves apple\"\n",
    "old_text = \"apple\"\n",
    "new_text = \"mango\"\n",
    "\n",
    "substituted_text = substitute_text(real_text,old_text,new_text)\n",
    "print(real_text)\n",
    "print(substituted_text)"
   ]
  },
  {
   "cell_type": "code",
   "execution_count": null,
   "id": "072a9ad7-74d3-4f6f-9fc1-1b2ed68ca5fa",
   "metadata": {},
   "outputs": [],
   "source": []
  },
  {
   "cell_type": "markdown",
   "id": "3e448c9f-e310-43f1-8d0c-786c200120d2",
   "metadata": {},
   "source": [
    "# CUT TEXT"
   ]
  },
  {
   "cell_type": "code",
   "execution_count": 27,
   "id": "f13d63cb-13dc-4f6e-b275-b008b91cf4b2",
   "metadata": {},
   "outputs": [
    {
     "name": "stdout",
     "output_type": "stream",
     "text": [
      "\n",
      "CHETAN \n"
     ]
    }
   ],
   "source": [
    "def cut_text(text, max_length):\n",
    "    if len(text) <= max_length:\n",
    "        return text\n",
    "    else:\n",
    "        return text[:max_length]\n",
    "\n",
    "original_text = \"CHETAN GIRI\"\n",
    "cut_text_result = cut_text(original_text, 7)\n",
    "print()\n",
    "print(cut_text_result)"
   ]
  },
  {
   "cell_type": "code",
   "execution_count": null,
   "id": "5ade743d-a6c6-45d1-9ef2-702704fd4b6d",
   "metadata": {},
   "outputs": [],
   "source": []
  }
 ],
 "metadata": {
  "kernelspec": {
   "display_name": "Python 3 (ipykernel)",
   "language": "python",
   "name": "python3"
  },
  "language_info": {
   "codemirror_mode": {
    "name": "ipython",
    "version": 3
   },
   "file_extension": ".py",
   "mimetype": "text/x-python",
   "name": "python",
   "nbconvert_exporter": "python",
   "pygments_lexer": "ipython3",
   "version": "3.11.7"
  }
 },
 "nbformat": 4,
 "nbformat_minor": 5
}
