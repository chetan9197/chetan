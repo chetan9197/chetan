{
 "cells": [
  {
   "cell_type": "markdown",
   "id": "789034f6-5658-47e0-bafe-11de21583ab8",
   "metadata": {},
   "source": [
    "#GET\n",
    "know about the value of the key"
   ]
  },
  {
   "cell_type": "code",
   "execution_count": 14,
   "id": "18dd383c-4c45-4b65-b086-f17a8ee6b576",
   "metadata": {},
   "outputs": [],
   "source": [
    "dic1={'d1':35,'d2':23,'d3':42,'d4':16}"
   ]
  },
  {
   "cell_type": "code",
   "execution_count": 4,
   "id": "996ebaa4-0b6b-4df5-b60a-257d5c3cae58",
   "metadata": {},
   "outputs": [
    {
     "data": {
      "text/plain": [
       "{'d1': 35, 'd2': 23, 'd3': 42, 'd4': 16}"
      ]
     },
     "execution_count": 4,
     "metadata": {},
     "output_type": "execute_result"
    }
   ],
   "source": [
    "dic1"
   ]
  },
  {
   "cell_type": "code",
   "execution_count": 5,
   "id": "92a2f66f-0737-4abd-8379-03170f6e448a",
   "metadata": {},
   "outputs": [
    {
     "data": {
      "text/plain": [
       "42"
      ]
     },
     "execution_count": 5,
     "metadata": {},
     "output_type": "execute_result"
    }
   ],
   "source": [
    "dic1.get('d3')"
   ]
  },
  {
   "cell_type": "code",
   "execution_count": null,
   "id": "e21f31e4-9767-4222-adf9-5f47f92fa731",
   "metadata": {},
   "outputs": [],
   "source": []
  },
  {
   "cell_type": "markdown",
   "id": "ae56d72c-8ff4-4b9b-8f94-e105db2cacc2",
   "metadata": {},
   "source": [
    "#ITEMS\n",
    "konw about the object"
   ]
  },
  {
   "cell_type": "code",
   "execution_count": 7,
   "id": "676ed924-2d8f-4009-87b6-86dc76fe73c9",
   "metadata": {},
   "outputs": [
    {
     "data": {
      "text/plain": [
       "{'d1': 35, 'd2': 23, 'd3': 42, 'd4': 16}"
      ]
     },
     "execution_count": 7,
     "metadata": {},
     "output_type": "execute_result"
    }
   ],
   "source": [
    "dic1"
   ]
  },
  {
   "cell_type": "code",
   "execution_count": 10,
   "id": "3bd9ca35-d094-4aee-8c25-bab752177d3e",
   "metadata": {},
   "outputs": [
    {
     "data": {
      "text/plain": [
       "dict_items([('d1', 35), ('d2', 23), ('d3', 42), ('d4', 16)])"
      ]
     },
     "execution_count": 10,
     "metadata": {},
     "output_type": "execute_result"
    }
   ],
   "source": [
    "dic1.items()"
   ]
  },
  {
   "cell_type": "code",
   "execution_count": null,
   "id": "135f224f-ad8c-4660-a5d3-39327a3a6ea4",
   "metadata": {},
   "outputs": [],
   "source": []
  },
  {
   "cell_type": "markdown",
   "id": "9161ab17-69d0-44c3-a38d-88b37e823b3c",
   "metadata": {},
   "source": [
    "#CLEAR \n",
    "remove all elements"
   ]
  },
  {
   "cell_type": "code",
   "execution_count": 11,
   "id": "e1083b5e-9372-49f2-87e2-6ef586868769",
   "metadata": {},
   "outputs": [
    {
     "data": {
      "text/plain": [
       "{'d1': 35, 'd2': 23, 'd3': 42, 'd4': 16}"
      ]
     },
     "execution_count": 11,
     "metadata": {},
     "output_type": "execute_result"
    }
   ],
   "source": [
    "dic1"
   ]
  },
  {
   "cell_type": "code",
   "execution_count": 12,
   "id": "de6524cb-1293-49c9-8ab3-bb297ad7f50d",
   "metadata": {},
   "outputs": [],
   "source": [
    "dic1.clear()"
   ]
  },
  {
   "cell_type": "code",
   "execution_count": 13,
   "id": "ad88fbfc-da2e-4d1a-bcdd-18ee6e3f2b84",
   "metadata": {},
   "outputs": [
    {
     "data": {
      "text/plain": [
       "{}"
      ]
     },
     "execution_count": 13,
     "metadata": {},
     "output_type": "execute_result"
    }
   ],
   "source": [
    "dic1"
   ]
  },
  {
   "cell_type": "code",
   "execution_count": null,
   "id": "22ff13b1-35b7-4204-a6da-0ba2c3d8c322",
   "metadata": {},
   "outputs": [],
   "source": []
  },
  {
   "cell_type": "markdown",
   "id": "bb5ba392-de92-4d4f-9394-56cf8baa35cb",
   "metadata": {},
   "source": [
    "#UPDATE\n",
    "used for update the elements of the dictionary"
   ]
  },
  {
   "cell_type": "code",
   "execution_count": 16,
   "id": "b4333dc8-a45b-4a3c-aa27-6763716d9617",
   "metadata": {},
   "outputs": [
    {
     "data": {
      "text/plain": [
       "{'d1': 35, 'd2': 23, 'd3': 42, 'd4': 16}"
      ]
     },
     "execution_count": 16,
     "metadata": {},
     "output_type": "execute_result"
    }
   ],
   "source": [
    "dic1"
   ]
  },
  {
   "cell_type": "code",
   "execution_count": 17,
   "id": "dc79fc74-2613-4ad4-bc69-9710af81577d",
   "metadata": {},
   "outputs": [],
   "source": [
    "dic1.update({'d5':65})"
   ]
  },
  {
   "cell_type": "code",
   "execution_count": 19,
   "id": "a8ea3a1d-c822-4a46-9ac1-c72d8de05162",
   "metadata": {},
   "outputs": [
    {
     "data": {
      "text/plain": [
       "{'d1': 35, 'd2': 23, 'd3': 42, 'd4': 16, 'd5': 65}"
      ]
     },
     "execution_count": 19,
     "metadata": {},
     "output_type": "execute_result"
    }
   ],
   "source": [
    "dic1"
   ]
  },
  {
   "cell_type": "code",
   "execution_count": null,
   "id": "f1210044-6f9a-428d-9054-19c76dbbdec2",
   "metadata": {},
   "outputs": [],
   "source": []
  },
  {
   "cell_type": "markdown",
   "id": "6df82e0b-be2e-40dc-83bf-6139a05be402",
   "metadata": {},
   "source": [
    "#VALUES \n",
    "display the value of dictionary"
   ]
  },
  {
   "cell_type": "code",
   "execution_count": 20,
   "id": "9a2ee961-fc8f-425d-8635-0ab21816c121",
   "metadata": {},
   "outputs": [
    {
     "data": {
      "text/plain": [
       "{'d1': 35, 'd2': 23, 'd3': 42, 'd4': 16, 'd5': 65}"
      ]
     },
     "execution_count": 20,
     "metadata": {},
     "output_type": "execute_result"
    }
   ],
   "source": [
    "dic1"
   ]
  },
  {
   "cell_type": "code",
   "execution_count": 21,
   "id": "1954e659-7c2b-46ee-b370-bd81b658a79c",
   "metadata": {},
   "outputs": [
    {
     "data": {
      "text/plain": [
       "dict_values([35, 23, 42, 16, 65])"
      ]
     },
     "execution_count": 21,
     "metadata": {},
     "output_type": "execute_result"
    }
   ],
   "source": [
    "dic1.values()"
   ]
  },
  {
   "cell_type": "code",
   "execution_count": null,
   "id": "6d380422-a1fa-47cb-8068-f7493d2f0403",
   "metadata": {},
   "outputs": [],
   "source": []
  }
 ],
 "metadata": {
  "kernelspec": {
   "display_name": "Python 3 (ipykernel)",
   "language": "python",
   "name": "python3"
  },
  "language_info": {
   "codemirror_mode": {
    "name": "ipython",
    "version": 3
   },
   "file_extension": ".py",
   "mimetype": "text/x-python",
   "name": "python",
   "nbconvert_exporter": "python",
   "pygments_lexer": "ipython3",
   "version": "3.11.7"
  }
 },
 "nbformat": 4,
 "nbformat_minor": 5
}
