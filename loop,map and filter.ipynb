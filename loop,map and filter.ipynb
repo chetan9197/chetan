{
 "cells": [
  {
   "cell_type": "markdown",
   "metadata": {},
   "source": [
    "# LOOP"
   ]
  },
  {
   "cell_type": "code",
   "execution_count": 28,
   "metadata": {},
   "outputs": [],
   "source": [
    "people = [{\"name\": \"jon snow\",\"age\": 28},\n",
    "           {\"name\": \"robb stark\",\"age\": 25},\n",
    "           {\"name\": \"sansa stark\",\"age\": 19},\n",
    "           {\"name\": \"arya stark\",\"age\": 17},\n",
    "           {\"name\": \"bran stark\",\"age\": 14}]\n",
    "\n"
   ]
  },
  {
   "cell_type": "code",
   "execution_count": 29,
   "metadata": {},
   "outputs": [
    {
     "name": "stdout",
     "output_type": "stream",
     "text": [
      "people = [{'name': 'jon snow', 'age': 28}, {'name': 'robb stark', 'age': 25}, {'name': 'sansa stark', 'age': 19}, {'name': 'arya stark', 'age': 17}, {'name': 'bran stark', 'age': 14}]\n",
      "\n"
     ]
    }
   ],
   "source": [
    "print(f'people = {people}')\n",
    "print()"
   ]
  },
  {
   "cell_type": "markdown",
   "metadata": {},
   "source": [
    "# while loop"
   ]
  },
  {
   "cell_type": "code",
   "execution_count": 30,
   "metadata": {},
   "outputs": [
    {
     "name": "stdout",
     "output_type": "stream",
     "text": [
      "jon snow\n",
      "robb stark\n",
      "sansa stark\n",
      "arya stark\n",
      "bran stark\n",
      "\n"
     ]
    }
   ],
   "source": [
    "index = 0 \n",
    "while index < len(people):\n",
    "    print(people[index][\"name\"])\n",
    "    index += 1\n",
    "print()"
   ]
  },
  {
   "cell_type": "markdown",
   "metadata": {},
   "source": [
    "# for loop"
   ]
  },
  {
   "cell_type": "code",
   "execution_count": 31,
   "metadata": {},
   "outputs": [
    {
     "name": "stdout",
     "output_type": "stream",
     "text": [
      "ages = [28]\n",
      "ages = [28, 25]\n",
      "ages = [28, 25, 19]\n",
      "ages = [28, 25, 19, 17]\n",
      "ages = [28, 25, 19, 17, 14]\n",
      "\n"
     ]
    }
   ],
   "source": [
    "ages = []\n",
    "for person in people:\n",
    "    ages.append(person[\"age\"])\n",
    "    print(f'ages = {ages}')\n",
    "print()\n"
   ]
  },
  {
   "cell_type": "markdown",
   "metadata": {},
   "source": [
    "# MAP"
   ]
  },
  {
   "cell_type": "code",
   "execution_count": 32,
   "metadata": {},
   "outputs": [
    {
     "name": "stdout",
     "output_type": "stream",
     "text": [
      "names = ['jon snow', 'robb stark', 'sansa stark', 'arya stark', 'bran stark']\n",
      "\n"
     ]
    }
   ],
   "source": [
    "names = list(map(lambda person: person[\"name\"],people))\n",
    "print(f'names = {names}')\n",
    "print()"
   ]
  },
  {
   "cell_type": "markdown",
   "metadata": {},
   "source": [
    "# filter"
   ]
  },
  {
   "cell_type": "code",
   "execution_count": 33,
   "metadata": {},
   "outputs": [
    {
     "name": "stdout",
     "output_type": "stream",
     "text": [
      "older_than_19 = [{'name': 'jon snow', 'age': 28}, {'name': 'robb stark', 'age': 25}, {'name': 'sansa stark', 'age': 19}]\n"
     ]
    }
   ],
   "source": [
    "\n",
    "older_than_19 = list(filter(lambda person: person['age'] >= 19, people))\n",
    "print(f'older_than_19 = {older_than_19}')"
   ]
  }
 ],
 "metadata": {
  "kernelspec": {
   "display_name": "base",
   "language": "python",
   "name": "python3"
  },
  "language_info": {
   "codemirror_mode": {
    "name": "ipython",
    "version": 3
   },
   "file_extension": ".py",
   "mimetype": "text/x-python",
   "name": "python",
   "nbconvert_exporter": "python",
   "pygments_lexer": "ipython3",
   "version": "3.11.7"
  }
 },
 "nbformat": 4,
 "nbformat_minor": 2
}
