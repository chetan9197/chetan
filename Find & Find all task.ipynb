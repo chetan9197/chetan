{
 "cells": [
  {
   "cell_type": "code",
   "execution_count": 194,
   "metadata": {},
   "outputs": [],
   "source": [
    "import requests as rq"
   ]
  },
  {
   "cell_type": "code",
   "execution_count": 195,
   "metadata": {},
   "outputs": [],
   "source": [
    "from bs4 import BeautifulSoup"
   ]
  },
  {
   "cell_type": "code",
   "execution_count": 196,
   "metadata": {},
   "outputs": [],
   "source": [
    "import pandas as pd"
   ]
  },
  {
   "cell_type": "code",
   "execution_count": 197,
   "metadata": {},
   "outputs": [],
   "source": [
    "url= 'https://webscraper.io/test-sites/e-commerce/allinone/phones/touch'"
   ]
  },
  {
   "cell_type": "code",
   "execution_count": 198,
   "metadata": {},
   "outputs": [],
   "source": [
    "responce = rq.get(url)"
   ]
  },
  {
   "cell_type": "code",
   "execution_count": 199,
   "metadata": {},
   "outputs": [],
   "source": [
    "soup = BeautifulSoup(responce.text, 'html.parser')"
   ]
  },
  {
   "cell_type": "code",
   "execution_count": 209,
   "metadata": {},
   "outputs": [],
   "source": [
    "MobailName = soup.findAll('a',{'class':'title'})"
   ]
  },
  {
   "cell_type": "code",
   "execution_count": 210,
   "metadata": {},
   "outputs": [
    {
     "data": {
      "text/plain": [
       "[<a class=\"title\" href=\"/test-sites/e-commerce/allinone/product/1\" title=\"Nokia 123\">Nokia 123</a>,\n",
       " <a class=\"title\" href=\"/test-sites/e-commerce/allinone/product/2\" title=\"LG Optimus\">LG Optimus</a>,\n",
       " <a class=\"title\" href=\"/test-sites/e-commerce/allinone/product/3\" title=\"Samsung Galaxy\">Samsung Galaxy</a>,\n",
       " <a class=\"title\" href=\"/test-sites/e-commerce/allinone/product/4\" title=\"Nokia X\">Nokia X</a>,\n",
       " <a class=\"title\" href=\"/test-sites/e-commerce/allinone/product/5\" title=\"Sony Xperia\">Sony Xperia</a>,\n",
       " <a class=\"title\" href=\"/test-sites/e-commerce/allinone/product/6\" title=\"Ubuntu Edge\">Ubuntu Edge</a>,\n",
       " <a class=\"title\" href=\"/test-sites/e-commerce/allinone/product/7\" title=\"Iphone\">Iphone</a>,\n",
       " <a class=\"title\" href=\"/test-sites/e-commerce/allinone/product/8\" title=\"Iphone\">Iphone</a>,\n",
       " <a class=\"title\" href=\"/test-sites/e-commerce/allinone/product/9\" title=\"Iphone\">Iphone</a>]"
      ]
     },
     "execution_count": 210,
     "metadata": {},
     "output_type": "execute_result"
    }
   ],
   "source": [
    "MobailName"
   ]
  },
  {
   "cell_type": "code",
   "execution_count": 211,
   "metadata": {},
   "outputs": [],
   "source": [
    "titlt_list = [title.get_text(strip=True) for title in MobailName]"
   ]
  },
  {
   "cell_type": "code",
   "execution_count": 212,
   "metadata": {},
   "outputs": [
    {
     "data": {
      "text/plain": [
       "['Nokia 123',\n",
       " 'LG Optimus',\n",
       " 'Samsung Galaxy',\n",
       " 'Nokia X',\n",
       " 'Sony Xperia',\n",
       " 'Ubuntu Edge',\n",
       " 'Iphone',\n",
       " 'Iphone',\n",
       " 'Iphone']"
      ]
     },
     "execution_count": 212,
     "metadata": {},
     "output_type": "execute_result"
    }
   ],
   "source": [
    "titlt_list"
   ]
  },
  {
   "cell_type": "code",
   "execution_count": 204,
   "metadata": {},
   "outputs": [],
   "source": [
    "prices = soup.findAll('h4',{'class':'price'})"
   ]
  },
  {
   "cell_type": "code",
   "execution_count": 205,
   "metadata": {},
   "outputs": [
    {
     "data": {
      "text/plain": [
       "[<h4 class=\"price float-end card-title pull-right\">$24.99</h4>,\n",
       " <h4 class=\"price float-end card-title pull-right\">$57.99</h4>,\n",
       " <h4 class=\"price float-end card-title pull-right\">$93.99</h4>,\n",
       " <h4 class=\"price float-end card-title pull-right\">$109.99</h4>,\n",
       " <h4 class=\"price float-end card-title pull-right\">$118.99</h4>,\n",
       " <h4 class=\"price float-end card-title pull-right\">$499.99</h4>,\n",
       " <h4 class=\"price float-end card-title pull-right\">$899.99</h4>,\n",
       " <h4 class=\"price float-end card-title pull-right\">$899.99</h4>,\n",
       " <h4 class=\"price float-end card-title pull-right\">$899.99</h4>]"
      ]
     },
     "execution_count": 205,
     "metadata": {},
     "output_type": "execute_result"
    }
   ],
   "source": [
    "prices"
   ]
  },
  {
   "cell_type": "code",
   "execution_count": 206,
   "metadata": {},
   "outputs": [],
   "source": [
    "price_list = [price.get_text(strip=True) for price in prices]"
   ]
  },
  {
   "cell_type": "code",
   "execution_count": 207,
   "metadata": {},
   "outputs": [
    {
     "data": {
      "text/plain": [
       "['$24.99',\n",
       " '$57.99',\n",
       " '$93.99',\n",
       " '$109.99',\n",
       " '$118.99',\n",
       " '$499.99',\n",
       " '$899.99',\n",
       " '$899.99',\n",
       " '$899.99']"
      ]
     },
     "execution_count": 207,
     "metadata": {},
     "output_type": "execute_result"
    }
   ],
   "source": [
    "price_list"
   ]
  },
  {
   "cell_type": "code",
   "execution_count": 213,
   "metadata": {},
   "outputs": [],
   "source": [
    "list = pd.DataFrame({'Mobile Name':titlt_list , 'price': price_list})"
   ]
  },
  {
   "cell_type": "code",
   "execution_count": 214,
   "metadata": {},
   "outputs": [
    {
     "data": {
      "text/html": [
       "<div>\n",
       "<style scoped>\n",
       "    .dataframe tbody tr th:only-of-type {\n",
       "        vertical-align: middle;\n",
       "    }\n",
       "\n",
       "    .dataframe tbody tr th {\n",
       "        vertical-align: top;\n",
       "    }\n",
       "\n",
       "    .dataframe thead th {\n",
       "        text-align: right;\n",
       "    }\n",
       "</style>\n",
       "<table border=\"1\" class=\"dataframe\">\n",
       "  <thead>\n",
       "    <tr style=\"text-align: right;\">\n",
       "      <th></th>\n",
       "      <th>Mobile Name</th>\n",
       "      <th>price</th>\n",
       "    </tr>\n",
       "  </thead>\n",
       "  <tbody>\n",
       "    <tr>\n",
       "      <th>0</th>\n",
       "      <td>Nokia 123</td>\n",
       "      <td>$24.99</td>\n",
       "    </tr>\n",
       "    <tr>\n",
       "      <th>1</th>\n",
       "      <td>LG Optimus</td>\n",
       "      <td>$57.99</td>\n",
       "    </tr>\n",
       "    <tr>\n",
       "      <th>2</th>\n",
       "      <td>Samsung Galaxy</td>\n",
       "      <td>$93.99</td>\n",
       "    </tr>\n",
       "    <tr>\n",
       "      <th>3</th>\n",
       "      <td>Nokia X</td>\n",
       "      <td>$109.99</td>\n",
       "    </tr>\n",
       "    <tr>\n",
       "      <th>4</th>\n",
       "      <td>Sony Xperia</td>\n",
       "      <td>$118.99</td>\n",
       "    </tr>\n",
       "    <tr>\n",
       "      <th>5</th>\n",
       "      <td>Ubuntu Edge</td>\n",
       "      <td>$499.99</td>\n",
       "    </tr>\n",
       "    <tr>\n",
       "      <th>6</th>\n",
       "      <td>Iphone</td>\n",
       "      <td>$899.99</td>\n",
       "    </tr>\n",
       "    <tr>\n",
       "      <th>7</th>\n",
       "      <td>Iphone</td>\n",
       "      <td>$899.99</td>\n",
       "    </tr>\n",
       "    <tr>\n",
       "      <th>8</th>\n",
       "      <td>Iphone</td>\n",
       "      <td>$899.99</td>\n",
       "    </tr>\n",
       "  </tbody>\n",
       "</table>\n",
       "</div>"
      ],
      "text/plain": [
       "      Mobile Name    price\n",
       "0       Nokia 123   $24.99\n",
       "1      LG Optimus   $57.99\n",
       "2  Samsung Galaxy   $93.99\n",
       "3         Nokia X  $109.99\n",
       "4     Sony Xperia  $118.99\n",
       "5     Ubuntu Edge  $499.99\n",
       "6          Iphone  $899.99\n",
       "7          Iphone  $899.99\n",
       "8          Iphone  $899.99"
      ]
     },
     "execution_count": 214,
     "metadata": {},
     "output_type": "execute_result"
    }
   ],
   "source": [
    "list"
   ]
  }
 ],
 "metadata": {
  "kernelspec": {
   "display_name": "base",
   "language": "python",
   "name": "python3"
  },
  "language_info": {
   "codemirror_mode": {
    "name": "ipython",
    "version": 3
   },
   "file_extension": ".py",
   "mimetype": "text/x-python",
   "name": "python",
   "nbconvert_exporter": "python",
   "pygments_lexer": "ipython3",
   "version": "3.11.7"
  }
 },
 "nbformat": 4,
 "nbformat_minor": 2
}
